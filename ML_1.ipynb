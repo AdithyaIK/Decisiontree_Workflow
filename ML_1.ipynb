{
  "nbformat": 4,
  "nbformat_minor": 0,
  "metadata": {
    "colab": {
      "name": "ML-1.ipynb",
      "provenance": [],
      "collapsed_sections": []
    },
    "kernelspec": {
      "name": "python3",
      "display_name": "Python 3"
    },
    "language_info": {
      "name": "python"
    }
  },
  "cells": [
    {
      "cell_type": "code",
      "metadata": {
        "id": "rjaJPVqDzxzy"
      },
      "source": [
        "import pandas as pd\n",
        "import numpy as np\n",
        "import warnings\n",
        "import matplotlib.pyplot as plt\n",
        "warnings.filterwarnings('ignore')\n",
        "%matplotlib inline"
      ],
      "execution_count": null,
      "outputs": []
    },
    {
      "cell_type": "code",
      "metadata": {
        "id": "cWwNMLBZ1RrU"
      },
      "source": [
        "tennis_data=pd.read_csv('tennis.csv')"
      ],
      "execution_count": null,
      "outputs": []
    },
    {
      "cell_type": "code",
      "metadata": {
        "id": "0VAdGoSy2A5W"
      },
      "source": [
        "tennis_data\n",
        "gains=[]"
      ],
      "execution_count": null,
      "outputs": []
    },
    {
      "cell_type": "code",
      "metadata": {
        "id": "KZY1G8-v0NR3"
      },
      "source": [
        "def entropy_calculate(prob_list):\n",
        "\n",
        "    entropy = 0\n",
        "    for item in prob_list:\n",
        "        entropy -= item * np.log2(item)\n",
        "    return entropy"
      ],
      "execution_count": null,
      "outputs": []
    },
    {
      "cell_type": "code",
      "metadata": {
        "colab": {
          "base_uri": "https://localhost:8080/"
        },
        "id": "bjVFobpp0P67",
        "outputId": "c24c31de-4619-48d2-ca7e-d200c6da5ac1"
      },
      "source": [
        "cases,counts = np.unique(tennis_data.play,return_counts=True)\n",
        "P = [count/len(tennis_data) for count in counts]\n",
        "print('Probabilities of %s and %s are %.3f, %.3f respectively'%(cases[0],cases[1],P[0],P[1]))\n",
        "\n",
        "entropy_entire = entropy_calculate(P)\n",
        "\n",
        "print('Entire syetems entropy is %.3f '%entropy_entire)"
      ],
      "execution_count": null,
      "outputs": [
        {
          "output_type": "stream",
          "text": [
            "Probabilities of No and Yes are 0.357, 0.643 respectively\n",
            "Entire syetems entropy is 0.940 \n"
          ],
          "name": "stdout"
        }
      ]
    },
    {
      "cell_type": "code",
      "metadata": {
        "colab": {
          "base_uri": "https://localhost:8080/"
        },
        "id": "BVbkLpNI0c7r",
        "outputId": "b27a9087-0386-4633-e7ef-f9f635fb009c"
      },
      "source": [
        "cases_outlook,counts_outlook= np.unique(tennis_data.outlook,return_counts=True)\n",
        "P_outlook = [count/len(tennis_data) for count in counts_outlook]\n",
        "print('For outlook:')\n",
        "for case, prob in zip(cases_outlook,P_outlook):\n",
        "    print('\\tProbabality of %s is %.3f'%(case, prob))\n"
      ],
      "execution_count": null,
      "outputs": [
        {
          "output_type": "stream",
          "text": [
            "For outlook:\n",
            "\tProbabality of Overcast is 0.286\n",
            "\tProbabality of Rain is 0.357\n",
            "\tProbabality of Sunny is 0.357\n"
          ],
          "name": "stdout"
        }
      ]
    },
    {
      "cell_type": "code",
      "metadata": {
        "colab": {
          "base_uri": "https://localhost:8080/"
        },
        "id": "u8NibUr10iGH",
        "outputId": "231955e0-a4b7-45b1-d486-5128cd7a40d3"
      },
      "source": [
        "entropy_outlook={}\n",
        "total_entropy_outlook=0\n",
        "for case, prob in zip(cases_outlook,P_outlook):\n",
        "    cases,counts = np.unique(tennis_data.play[tennis_data.outlook==case],return_counts=True)\n",
        "    P = [count/len(tennis_data[tennis_data.outlook==case]) for count in counts]\n",
        "    entropy_outlook[case]=entropy_calculate(P)\n",
        "    total_entropy_outlook += entropy_calculate(P)*prob\n",
        "\n",
        "for case, entropy in entropy_outlook.items():\n",
        "    print('Entropy for %s is %.2f'%(case,entropy))\n",
        "print('\\nEntropy at Outlook decision level is %.3f'%total_entropy_outlook)\n",
        "gain_outlook=entropy_entire- total_entropy_outlook\n",
        "gains.append(gain_outlook)\n",
        "print('\\nInformation gain is %.3f'%(gain_outlook))"
      ],
      "execution_count": null,
      "outputs": [
        {
          "output_type": "stream",
          "text": [
            "Entropy for Overcast is 0.00\n",
            "Entropy for Rain is 0.97\n",
            "Entropy for Sunny is 0.97\n",
            "\n",
            "Entropy at Outlook decision level is 0.694\n",
            "\n",
            "Information gain is 0.247\n"
          ],
          "name": "stdout"
        }
      ]
    },
    {
      "cell_type": "code",
      "metadata": {
        "colab": {
          "base_uri": "https://localhost:8080/"
        },
        "id": "740sBhZB0mlf",
        "outputId": "ccb6f194-9af6-4da6-9b5f-8fb48839a060"
      },
      "source": [
        "cases_temperature,counts_temperature= np.unique(tennis_data.temp,return_counts=True)\n",
        "\n",
        "P_temperature = [count/len(tennis_data) for count in counts_temperature]\n",
        "print('For temperature:')\n",
        "for case, prob in zip(cases_temperature,P_temperature):\n",
        "    print('\\tProbabality of %s is %.3f'%(case, prob))"
      ],
      "execution_count": null,
      "outputs": [
        {
          "output_type": "stream",
          "text": [
            "For temperature:\n",
            "\tProbabality of Cool is 0.286\n",
            "\tProbabality of Hot is 0.286\n",
            "\tProbabality of Mild is 0.429\n"
          ],
          "name": "stdout"
        }
      ]
    },
    {
      "cell_type": "code",
      "metadata": {
        "colab": {
          "base_uri": "https://localhost:8080/"
        },
        "id": "m_u1atCH0qHn",
        "outputId": "b17721a8-d341-48f5-82d1-4abcf631fbb2"
      },
      "source": [
        "entropy_temperature={}\n",
        "total_entropy_temperature=0\n",
        "for case, prob in zip(cases_temperature,P_temperature):\n",
        "    cases,counts = np.unique(tennis_data.play[tennis_data.temp==case],return_counts=True)\n",
        "    \n",
        "    P = [count/len(tennis_data[tennis_data.temp==case]) for count in counts]\n",
        "    entropy_temperature[case]=entropy_calculate(P)\n",
        "    total_entropy_temperature += entropy_calculate(P)*prob\n",
        "\n",
        "for case, entropy in entropy_temperature.items(): \n",
        "    print('Entropy for %s is %.2f'%(case,entropy))\n",
        "print('\\nEntropy at Temperature decision level is %.3f'%total_entropy_temperature)\n",
        "gain_temp=entropy_entire- total_entropy_temperature\n",
        "gains.append(gain_temp)\n",
        "print('\\nInformation gain is %.3f'%(gain_temp))"
      ],
      "execution_count": null,
      "outputs": [
        {
          "output_type": "stream",
          "text": [
            "Entropy for Cool is 0.81\n",
            "Entropy for Hot is 1.00\n",
            "Entropy for Mild is 0.92\n",
            "\n",
            "Entropy at Temperature decision level is 0.911\n",
            "\n",
            "Information gain is 0.029\n"
          ],
          "name": "stdout"
        }
      ]
    },
    {
      "cell_type": "code",
      "metadata": {
        "colab": {
          "base_uri": "https://localhost:8080/"
        },
        "id": "xApLelTJ0uOo",
        "outputId": "5560d6b4-fe4d-491d-c5f5-61aa371f20b7"
      },
      "source": [
        "cases_wind,counts_wind= np.unique(tennis_data.wind,return_counts=True)\n",
        "P_wind = [count/len(tennis_data) for count in counts_wind]\n",
        "print('For wind:')\n",
        "for case, prob in zip(cases_wind,P_wind):\n",
        "    print('\\tProbabality of %s is %.3f'%(case, prob))"
      ],
      "execution_count": null,
      "outputs": [
        {
          "output_type": "stream",
          "text": [
            "For wind:\n",
            "\tProbabality of Strong is 0.429\n",
            "\tProbabality of Weak is 0.571\n"
          ],
          "name": "stdout"
        }
      ]
    },
    {
      "cell_type": "code",
      "metadata": {
        "colab": {
          "base_uri": "https://localhost:8080/"
        },
        "id": "oTwgYTFH0wmn",
        "outputId": "8d14bdb7-f9e7-48ed-e1f2-435fc67f1436"
      },
      "source": [
        "entropy_wind={}\n",
        "total_entropy_wind=0\n",
        "for case, prob in zip(cases_wind,P_wind):\n",
        "    cases,counts = np.unique(tennis_data.play[tennis_data.wind==case],return_counts=True)\n",
        "    P = [count/len(tennis_data[tennis_data.wind==case]) for count in counts]\n",
        "    entropy_wind[case]=entropy_calculate(P)\n",
        "    total_entropy_wind += entropy_calculate(P)*prob\n",
        "\n",
        "for case, entropy in entropy_wind.items():\n",
        "  \n",
        "    print('Entropy for %s is %.2f'%(case,entropy))\n",
        "print('\\nEntropy at Wind decision level is %.3f'%total_entropy_wind)\n",
        "gain_wind=entropy_entire- total_entropy_wind\n",
        "gains.append(gain_wind)\n",
        "print('\\nInformation gain is %.3f'%(gain_wind))"
      ],
      "execution_count": null,
      "outputs": [
        {
          "output_type": "stream",
          "text": [
            "Entropy for Strong is 1.00\n",
            "Entropy for Weak is 0.81\n",
            "\n",
            "Entropy at Wind decision level is 0.892\n",
            "\n",
            "Information gain is 0.048\n"
          ],
          "name": "stdout"
        }
      ]
    },
    {
      "cell_type": "code",
      "metadata": {
        "colab": {
          "base_uri": "https://localhost:8080/"
        },
        "id": "1DzWRw7k09c6",
        "outputId": "c089220f-9111-46cd-e177-d813f7bfb430"
      },
      "source": [
        "cases_humidity,counts_humidity= np.unique(tennis_data.humidity,return_counts=True)\n",
        "P_humidity = [count/len(tennis_data) for count in counts_humidity]\n",
        "print('For humidity:')\n",
        "for case, prob in zip(cases_humidity,P_humidity):\n",
        "    print('\\tProbabality of %s is %.3f'%(case, prob))"
      ],
      "execution_count": null,
      "outputs": [
        {
          "output_type": "stream",
          "text": [
            "For humidity:\n",
            "\tProbabality of High is 0.500\n",
            "\tProbabality of Normal is 0.500\n"
          ],
          "name": "stdout"
        }
      ]
    },
    {
      "cell_type": "code",
      "metadata": {
        "colab": {
          "base_uri": "https://localhost:8080/"
        },
        "id": "ioRfaflZ1BAD",
        "outputId": "b01d4f53-ca1a-495f-cafb-e2656e0605ef"
      },
      "source": [
        "entropy_humidity={}\n",
        "total_entropy_humidity=0\n",
        "for case, prob in zip(cases_humidity,P_humidity):\n",
        "  \n",
        "    cases,counts = np.unique(tennis_data.play[tennis_data.humidity==case],return_counts=True)\n",
        "    P = [count/len(tennis_data[tennis_data.humidity==case]) for count in counts]\n",
        "    entropy_humidity[case]=entropy_calculate(P)\n",
        "    total_entropy_humidity += entropy_calculate(P)*prob\n",
        "\n",
        "for case, entropy in entropy_humidity.items():\n",
        "    print('Entropy for %s is %.2f'%(case,entropy))\n",
        "print('\\nEntropy at Humidity decision level is %.3f'%total_entropy_humidity)\n",
        "gain_humidity=entropy_entire- total_entropy_humidity\n",
        "gains.append(gain_humidity)\n",
        "print('\\nInformation gain is %.3f'%(gain_humidity))\n"
      ],
      "execution_count": null,
      "outputs": [
        {
          "output_type": "stream",
          "text": [
            "Entropy for High is 0.99\n",
            "Entropy for Normal is 0.59\n",
            "\n",
            "Entropy at Humidity decision level is 0.788\n",
            "\n",
            "Information gain is 0.152\n"
          ],
          "name": "stdout"
        }
      ]
    },
    {
      "cell_type": "code",
      "metadata": {
        "colab": {
          "base_uri": "https://localhost:8080/"
        },
        "id": "yrqzpy3u1dIe",
        "outputId": "91bc887a-ba86-421f-b881-586af8b4e04f"
      },
      "source": [
        "gains.sort(reverse=True)\n",
        "gains\n"
      ],
      "execution_count": null,
      "outputs": [
        {
          "output_type": "execute_result",
          "data": {
            "text/plain": [
              "[0.2467498197744391,\n",
              " 0.15183550136234136,\n",
              " 0.04812703040826927,\n",
              " 0.029222565658954647]"
            ]
          },
          "metadata": {
            "tags": []
          },
          "execution_count": 55
        }
      ]
    },
    {
      "cell_type": "code",
      "metadata": {
        "colab": {
          "base_uri": "https://localhost:8080/"
        },
        "id": "OeOQjD3BJKih",
        "outputId": "0c221345-fdd1-4ff3-ee6f-7f90af4b09ba"
      },
      "source": [
        "Root_node=max(gain_humidity,gain_outlook,gain_temp,gain_wind)\n",
        "if(Root_node==gain_outlook):\n",
        "  print(\"The Rootnode is Outlook :\",gain_outlook)\n",
        "elif(Root_node==gain_humidity):\n",
        "  print(\"The Rootnode is Humidity :\",gain_humidity)\n",
        "elif(Root_node==gain_temp):\n",
        "  print(\"The Rootnode is Temprature :\",gain_temp)\n",
        "elif(Root_node==gain_wind):\n",
        "\n",
        "\n",
        "  print(\"The Rootnode is wind :\",gain_wind)\n"
      ],
      "execution_count": null,
      "outputs": [
        {
          "output_type": "stream",
          "text": [
            "The Rootnode is Outlook : 0.2467498197744391\n"
          ],
          "name": "stdout"
        }
      ]
    },
    {
      "cell_type": "code",
      "metadata": {
        "colab": {
          "base_uri": "https://localhost:8080/"
        },
        "id": "TRggVkU831On",
        "outputId": "2ca37c0d-773f-4468-e59d-ef4628f98ab5"
      },
      "source": [
        "print(gains)"
      ],
      "execution_count": null,
      "outputs": [
        {
          "output_type": "stream",
          "text": [
            "[0.2467498197744391, 0.15183550136234136, 0.04812703040826927, 0.029222565658954647]\n"
          ],
          "name": "stdout"
        }
      ]
    },
    {
      "cell_type": "code",
      "metadata": {
        "id": "vpVJD0dg3QXS"
      },
      "source": [
        "Root_node=gains[0]\n",
        "Internal_node_1=gains[1]\n",
        "Internal_node_2 =gains[2]\n",
        "Leaf_node=gains[3]"
      ],
      "execution_count": null,
      "outputs": []
    },
    {
      "cell_type": "code",
      "metadata": {
        "colab": {
          "base_uri": "https://localhost:8080/"
        },
        "id": "wYecnibj4qU6",
        "outputId": "a9422d9d-5599-4fb9-92e6-c31b15ee6c86"
      },
      "source": [
        "print(\"The Rootnode is Outlook :\",Root_node)\n",
        "print(\"The Internal_node is Humidity :\",Internal_node_1)\n",
        "print(\"The Internal_node is Wind :\",Internal_node_2)\n",
        "print(\"The Leaf_node is Temperature :\",Leaf_node)"
      ],
      "execution_count": null,
      "outputs": [
        {
          "output_type": "stream",
          "text": [
            "The Rootnode is Outlook : 0.2467498197744391\n",
            "The Internal_node is Humidity : 0.15183550136234136\n",
            "The Internal_node is Wind : 0.04812703040826927\n",
            "The Leaf_node is Temperature : 0.029222565658954647\n"
          ],
          "name": "stdout"
        }
      ]
    }
  ]
}